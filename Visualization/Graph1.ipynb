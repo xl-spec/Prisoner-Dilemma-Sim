{
 "cells": [
  {
   "cell_type": "code",
   "execution_count": 1,
   "metadata": {},
   "outputs": [],
   "source": [
    "import pandas as pd\n",
    "\n",
    "# Creating a sample dataframe similar to your data structure\n",
    "data = {\n",
    "    'id': [0]*10 + [1]*10,  # Two players, each with 10 rounds\n",
    "    'round': list(range(10)) + list(range(10)),  # Rounds 0-9 for each player\n",
    "    'money': [10, 9, 8, 9, 10, 9, 8, 7, 6, 5] + [10, 10, 9, 8, 9, 8, 7, 6, 5, 4],  # Money values for each round\n",
    "    'res_round_0': [1, 0, 1, 1, 0, 0, 1, 0, 1, 0]*2,  # Responses in round 0\n",
    "    'res_round_1': [0, 1, 0, 0, 1, 1, 0, 1, 0, 1]*2,  # Responses in round 1\n",
    "    'res_round_2': [1, 1, 0, 0, 1, 0, 1, 1, 0, 0]*2,  # Responses in round 2\n",
    "    # Add as many 'res_round_X' as needed based on your actual data\n",
    "}\n",
    "\n",
    "df = pd.DataFrame(data)\n"
   ]
  },
  {
   "cell_type": "code",
   "execution_count": null,
   "metadata": {},
   "outputs": [],
   "source": [
    "import matplotlib.pyplot as plt\n",
    "\n",
    "# Filter data for a specific player\n",
    "player_id = 0\n",
    "player_data = df[df['id'] == player_id]\n",
    "\n",
    "# Set up the plot\n",
    "plt.figure(figsize=(14, 8))\n",
    "\n",
    "# Plot 'money' values\n",
    "plt.plot(player_data['round'], player_data['money'], label='Money', linewidth=2, marker='o')\n",
    "\n",
    "# Plot decisions/responses for each round - we'll use scatter plots here\n",
    "for i in range(3):  # Assuming there are 3 rounds in your pseudo data; adjust as necessary\n",
    "    # Plotting decision for round i\n",
    "    plt.scatter(player_data['round'], player_data[f'res_round_{i}'] * player_data['money'].max(), \n",
    "                alpha=0.6, s=100, label=f'Response in Round {i}')  # Adjust size and transparency as you like\n",
    "\n",
    "# Customize the plot\n",
    "plt.title(f'Decisions and Money Over Time for Player {player_id}')\n",
    "plt.xlabel('Round')\n",
    "plt.ylabel('Money')\n",
    "plt.grid(True)\n",
    "plt.legend()\n",
    "# plt.show()\n"
   ]
  },
  {
   "cell_type": "code",
   "execution_count": null,
   "metadata": {},
   "outputs": [],
   "source": []
  }
 ],
 "metadata": {
  "kernelspec": {
   "display_name": "Python 3",
   "language": "python",
   "name": "python3"
  },
  "language_info": {
   "codemirror_mode": {
    "name": "ipython",
    "version": 3
   },
   "file_extension": ".py",
   "mimetype": "text/x-python",
   "name": "python",
   "nbconvert_exporter": "python",
   "pygments_lexer": "ipython3",
   "version": "3.11.5"
  }
 },
 "nbformat": 4,
 "nbformat_minor": 2
}
